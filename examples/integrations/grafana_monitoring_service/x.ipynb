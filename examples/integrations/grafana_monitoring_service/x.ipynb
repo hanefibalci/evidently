{
 "cells": [
  {
   "cell_type": "code",
   "execution_count": 4,
   "metadata": {},
   "outputs": [],
   "source": [
    "import polars as pl\n",
    "import pandas as pd"
   ]
  },
  {
   "cell_type": "code",
   "execution_count": 2,
   "metadata": {},
   "outputs": [],
   "source": [
    "df = pl.read_csv(\"telco_churn.csv\")"
   ]
  },
  {
   "cell_type": "code",
   "execution_count": 2,
   "metadata": {},
   "outputs": [],
   "source": [
    "def get_data_telco_churn():\n",
    "    from sklearn import model_selection\n",
    "    from sklearn import neighbors\n",
    "    print(\"telco metoduna girdi\")\n",
    "\n",
    "    data = pd.read_csv(\"telco_churn.csv\")\n",
    "    features = list(set(data.columns) - {\"Churn\"})\n",
    "    \n",
    "    reference_data, production_data = model_selection.train_test_split(\n",
    "        data, random_state=0, train_size=0.2, test_size=0.1\n",
    "    )\n",
    "    target = \"Churn\"\n",
    "\n",
    "    classification_model = neighbors.KNeighborsClassifier(n_neighbors=1)\n",
    "    classification_model.fit(reference_data[features], reference_data[target])\n",
    "\n",
    "    reference_data[\"prediction\"] = classification_model.predict(reference_data[features])\n",
    "    production_data[\"prediction\"] = classification_model.predict(production_data[features])\n",
    "    print(\"tahminler yapıldı\")\n",
    "    return reference_data[features + [target, \"prediction\"]], production_data"
   ]
  },
  {
   "cell_type": "code",
   "execution_count": 5,
   "metadata": {},
   "outputs": [
    {
     "name": "stdout",
     "output_type": "stream",
     "text": [
      "telco metoduna girdi\n",
      "tahminler yapıldı\n"
     ]
    }
   ],
   "source": [
    "reference_data,production_data =get_data_telco_churn()"
   ]
  },
  {
   "cell_type": "code",
   "execution_count": 7,
   "metadata": {},
   "outputs": [],
   "source": [
    "reference_data.to_csv(\"datasets/reference.csv\", index=False)\n",
    "production_data.to_csv( \"datasets/production.csv\", index=False)"
   ]
  }
 ],
 "metadata": {
  "kernelspec": {
   "display_name": "Python 3.11.1 64-bit",
   "language": "python",
   "name": "python3"
  },
  "language_info": {
   "codemirror_mode": {
    "name": "ipython",
    "version": 3
   },
   "file_extension": ".py",
   "mimetype": "text/x-python",
   "name": "python",
   "nbconvert_exporter": "python",
   "pygments_lexer": "ipython3",
   "version": "3.11.1"
  },
  "orig_nbformat": 4,
  "vscode": {
   "interpreter": {
    "hash": "20e40d8fc09a6690434ad602c7eb2d8de15d36ec466bfbfb0de97c7c540d7363"
   }
  }
 },
 "nbformat": 4,
 "nbformat_minor": 2
}
